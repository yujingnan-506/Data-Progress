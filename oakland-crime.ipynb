{
 "cells": [
  {
   "cell_type": "markdown",
   "metadata": {},
   "source": [
    "# oakland-crime\n",
    "\n",
    "\n",
    "## 1.数据可视化和摘要\n",
    "\n",
    "\n",
    "这是由加利福尼亚州奥克兰市托管的数据集。 记录的是当地发生的各类突发事件。\n",
    "\n",
    "Name：oakland-crime-statistics-2011-to-2016\n"
   ]
  },
  {
   "cell_type": "code",
   "execution_count": 11,
   "metadata": {},
   "outputs": [
    {
     "data": {
      "text/html": [
       "<div>\n",
       "<style scoped>\n",
       "    .dataframe tbody tr th:only-of-type {\n",
       "        vertical-align: middle;\n",
       "    }\n",
       "\n",
       "    .dataframe tbody tr th {\n",
       "        vertical-align: top;\n",
       "    }\n",
       "\n",
       "    .dataframe thead th {\n",
       "        text-align: right;\n",
       "    }\n",
       "</style>\n",
       "<table border=\"1\" class=\"dataframe\">\n",
       "  <thead>\n",
       "    <tr style=\"text-align: right;\">\n",
       "      <th></th>\n",
       "      <th>Create Time</th>\n",
       "      <th>Location</th>\n",
       "      <th>Area Id</th>\n",
       "      <th>Beat</th>\n",
       "      <th>Priority</th>\n",
       "      <th>Incident Type Id</th>\n",
       "      <th>Incident Type Description</th>\n",
       "      <th>Event Number</th>\n",
       "      <th>Closed Time</th>\n",
       "    </tr>\n",
       "    <tr>\n",
       "      <th>Agency</th>\n",
       "      <th></th>\n",
       "      <th></th>\n",
       "      <th></th>\n",
       "      <th></th>\n",
       "      <th></th>\n",
       "      <th></th>\n",
       "      <th></th>\n",
       "      <th></th>\n",
       "      <th></th>\n",
       "    </tr>\n",
       "  </thead>\n",
       "  <tbody>\n",
       "    <tr>\n",
       "      <th>OP</th>\n",
       "      <td>2011-01-01T00:00:00.000</td>\n",
       "      <td>ST&amp;SAN PABLO AV</td>\n",
       "      <td>1.0</td>\n",
       "      <td>06X</td>\n",
       "      <td>1.0</td>\n",
       "      <td>PDOA</td>\n",
       "      <td>POSSIBLE DEAD PERSON</td>\n",
       "      <td>LOP110101000001</td>\n",
       "      <td>2011-01-01T00:28:17.000</td>\n",
       "    </tr>\n",
       "    <tr>\n",
       "      <th>OP</th>\n",
       "      <td>2011-01-01T00:01:11.000</td>\n",
       "      <td>ST&amp;HANNAH ST</td>\n",
       "      <td>1.0</td>\n",
       "      <td>07X</td>\n",
       "      <td>1.0</td>\n",
       "      <td>415GS</td>\n",
       "      <td>415 GUNSHOTS</td>\n",
       "      <td>LOP110101000002</td>\n",
       "      <td>2011-01-01T01:12:56.000</td>\n",
       "    </tr>\n",
       "    <tr>\n",
       "      <th>OP</th>\n",
       "      <td>2011-01-01T00:01:25.000</td>\n",
       "      <td>ST&amp;MARKET ST</td>\n",
       "      <td>1.0</td>\n",
       "      <td>10Y</td>\n",
       "      <td>2.0</td>\n",
       "      <td>415GS</td>\n",
       "      <td>415 GUNSHOTS</td>\n",
       "      <td>LOP110101000003</td>\n",
       "      <td>2011-01-01T00:07:20.000</td>\n",
       "    </tr>\n",
       "    <tr>\n",
       "      <th>OP</th>\n",
       "      <td>2011-01-01T00:01:35.000</td>\n",
       "      <td>PRENTISS ST</td>\n",
       "      <td>2.0</td>\n",
       "      <td>21Y</td>\n",
       "      <td>2.0</td>\n",
       "      <td>415GS</td>\n",
       "      <td>415 GUNSHOTS</td>\n",
       "      <td>LOP110101000005</td>\n",
       "      <td>2011-01-01T00:02:28.000</td>\n",
       "    </tr>\n",
       "    <tr>\n",
       "      <th>OP</th>\n",
       "      <td>2011-01-01T00:02:10.000</td>\n",
       "      <td>AV&amp;FOOTHILL BLVD</td>\n",
       "      <td>2.0</td>\n",
       "      <td>20X</td>\n",
       "      <td>1.0</td>\n",
       "      <td>415GS</td>\n",
       "      <td>415 GUNSHOTS</td>\n",
       "      <td>LOP110101000004</td>\n",
       "      <td>2011-01-01T00:50:04.000</td>\n",
       "    </tr>\n",
       "  </tbody>\n",
       "</table>\n",
       "</div>"
      ],
      "text/plain": [
       "                    Create Time            Location  Area Id Beat  Priority  \\\n",
       "Agency                                                                        \n",
       "OP      2011-01-01T00:00:00.000     ST&SAN PABLO AV      1.0  06X       1.0   \n",
       "OP      2011-01-01T00:01:11.000       ST&HANNAH ST       1.0  07X       1.0   \n",
       "OP      2011-01-01T00:01:25.000       ST&MARKET ST       1.0  10Y       2.0   \n",
       "OP      2011-01-01T00:01:35.000        PRENTISS ST       2.0  21Y       2.0   \n",
       "OP      2011-01-01T00:02:10.000   AV&FOOTHILL BLVD       2.0  20X       1.0   \n",
       "\n",
       "       Incident Type Id Incident Type Description     Event Number  \\\n",
       "Agency                                                               \n",
       "OP                 PDOA      POSSIBLE DEAD PERSON  LOP110101000001   \n",
       "OP                415GS              415 GUNSHOTS  LOP110101000002   \n",
       "OP                415GS              415 GUNSHOTS  LOP110101000003   \n",
       "OP                415GS              415 GUNSHOTS  LOP110101000005   \n",
       "OP                415GS              415 GUNSHOTS  LOP110101000004   \n",
       "\n",
       "                    Closed Time  \n",
       "Agency                           \n",
       "OP      2011-01-01T00:28:17.000  \n",
       "OP      2011-01-01T01:12:56.000  \n",
       "OP      2011-01-01T00:07:20.000  \n",
       "OP      2011-01-01T00:02:28.000  \n",
       "OP      2011-01-01T00:50:04.000  "
      ]
     },
     "execution_count": 11,
     "metadata": {},
     "output_type": "execute_result"
    }
   ],
   "source": [
    "import scipy.stats as stats\n",
    "import pandas as pd\n",
    "import matplotlib.pyplot as plt\n",
    "import pylab\n",
    "import numpy as np\n",
    "\n",
    "\n",
    "df = pd.read_csv('records-for-2011.csv', index_col=0)\n",
    "df.head()"
   ]
  },
  {
   "cell_type": "markdown",
   "metadata": {},
   "source": [
    "\n",
    "### 1.1 数据摘要\n",
    "\n",
    "\n",
    "- 标称属性和数值属性\n"
   ]
  },
  {
   "cell_type": "code",
   "execution_count": 12,
   "metadata": {},
   "outputs": [
    {
     "name": "stdout",
     "output_type": "stream",
     "text": [
      "Numeric fields: ['Area Id' 'Priority']\n",
      "Nominal fields: ['Create Time' 'Location' 'Beat' 'Incident Type Id'\n",
      " 'Incident Type Description' 'Event Number' 'Closed Time']\n"
     ]
    }
   ],
   "source": [
    "numeric_fields = df.select_dtypes(include=np.number).columns.values\n",
    "nominal_fields = df.select_dtypes(exclude=np.number).columns.values\n",
    "print('Numeric fields:', numeric_fields)\n",
    "print('Nominal fields:', nominal_fields)"
   ]
  },
  {
   "cell_type": "markdown",
   "metadata": {},
   "source": [
    "\n",
    "标称属性，给出每个可能聚会的频数\n"
   ]
  },
  {
   "cell_type": "code",
   "execution_count": 13,
   "metadata": {},
   "outputs": [
    {
     "name": "stdout",
     "output_type": "stream",
     "text": [
      "Create Time\n",
      "2011-01-01T00:00:00.000    1\n",
      "2011-01-01T00:01:11.000    1\n",
      "2011-01-01T00:01:25.000    1\n",
      "2011-01-01T00:01:35.000    1\n",
      "2011-01-01T00:02:10.000    1\n",
      "                          ..\n",
      "2011-12-31T23:51:14.000    1\n",
      "2011-12-31T23:52:15.000    1\n",
      "2011-12-31T23:53:59.000    1\n",
      "2011-12-31T23:55:52.000    1\n",
      "2011-12-31T23:58:08.000    1\n",
      "Length: 179451, dtype: int64\n",
      "Location\n",
      "                         43\n",
      " & DENNISON ST            5\n",
      " & E18TH ST               1\n",
      " & MILES                  1\n",
      " & SKYLINE                1\n",
      "                         ..\n",
      "WB W GRAND AV             1\n",
      "WB WRIGHT ST              1\n",
      "WERNER 40TH STREET WY     1\n",
      "WOOD AV&KEMPTON AV        1\n",
      "WOODSON B ST              1\n",
      "Length: 32505, dtype: int64\n",
      "Beat\n",
      "01X     2210\n",
      "02X     2614\n",
      "02Y     2970\n",
      "03X     3819\n",
      "03Y     2726\n",
      "04X     7410\n",
      "05X     2633\n",
      "05Y      710\n",
      "06X     5119\n",
      "07X     4134\n",
      "08X     6885\n",
      "09X     3630\n",
      "10X     2967\n",
      "10Y     2383\n",
      "11X     2087\n",
      "12X     2422\n",
      "12Y     2651\n",
      "13X     1122\n",
      "13Y     2017\n",
      "13Z     2546\n",
      "14X     2733\n",
      "14Y     1492\n",
      "15X     2509\n",
      "16X      994\n",
      "16Y     1561\n",
      "17X     2133\n",
      "17Y     2582\n",
      "18X     1063\n",
      "18Y     1778\n",
      "19X     4955\n",
      "20X     4287\n",
      "21X     2593\n",
      "21Y     3435\n",
      "22X     3061\n",
      "22Y     2664\n",
      "23X     5051\n",
      "24X     2459\n",
      "24Y     2575\n",
      "25X     4022\n",
      "25Y     1482\n",
      "26X     2978\n",
      "26Y     5478\n",
      "27X     3703\n",
      "27Y     4159\n",
      "28X     2191\n",
      "29X     4483\n",
      "30X     4956\n",
      "30Y     5295\n",
      "31X     2603\n",
      "31Y     4082\n",
      "31Z     1870\n",
      "32X     3711\n",
      "32Y     3125\n",
      "33X     3849\n",
      "34X     4673\n",
      "35X     3880\n",
      "35Y     1956\n",
      "PDT2      20\n",
      "dtype: int64\n",
      "Incident Type Id\n",
      "107          2\n",
      "10801        1\n",
      "10851     7180\n",
      "10852        2\n",
      "10855       21\n",
      "          ... \n",
      "WATER       74\n",
      "WELCK     2513\n",
      "WIRES       75\n",
      "WIT          3\n",
      "YELALT       1\n",
      "Length: 263, dtype: int64\n",
      "Incident Type Description\n",
      "21235 MOTORSCOOTER         5\n",
      "415 BOYFRIEND           1394\n",
      "415 FAMILY              3595\n",
      "415 FIRE CRACKERS        468\n",
      "415 GUNSHOTS            3939\n",
      "                        ... \n",
      "WELFARE CHECK -- CHE    2513\n",
      "WILLFUL CRUELTY TO C      49\n",
      "WIRES                     75\n",
      "WITNESS                    3\n",
      "YELLOW ALERT AT THE        1\n",
      "Length: 265, dtype: int64\n",
      "Event Number\n",
      "LOP110101000001    1\n",
      "LOP110101000002    1\n",
      "LOP110101000003    1\n",
      "LOP110101000004    1\n",
      "LOP110101000005    1\n",
      "                  ..\n",
      "LOP111231001013    1\n",
      "LOP111231001014    1\n",
      "LOP111231001015    1\n",
      "LOP111231001016    1\n",
      "LOP111231001017    1\n",
      "Length: 180015, dtype: int64\n",
      "Closed Time\n",
      "2011-01-01T00:02:28.000    1\n",
      "2011-01-01T00:04:55.000    1\n",
      "2011-01-01T00:07:20.000    1\n",
      "2011-01-01T00:07:39.000    1\n",
      "2011-01-01T00:08:01.000    1\n",
      "                          ..\n",
      "2012-01-01T12:36:41.000    1\n",
      "2012-01-01T17:53:53.000    1\n",
      "2012-01-04T00:44:59.000    1\n",
      "2012-01-05T02:17:38.000    1\n",
      "2012-01-19T01:14:50.000    1\n",
      "Length: 179506, dtype: int64\n"
     ]
    }
   ],
   "source": [
    "for name in nominal_fields:\n",
    "    print(df.groupby(name).size())"
   ]
  },
  {
   "cell_type": "markdown",
   "metadata": {},
   "source": [
    "\n",
    "数值属性，给出5数概括及缺失值的个数\n"
   ]
  },
  {
   "cell_type": "code",
   "execution_count": 14,
   "metadata": {},
   "outputs": [
    {
     "data": {
      "text/html": [
       "<div>\n",
       "<style scoped>\n",
       "    .dataframe tbody tr th:only-of-type {\n",
       "        vertical-align: middle;\n",
       "    }\n",
       "\n",
       "    .dataframe tbody tr th {\n",
       "        vertical-align: top;\n",
       "    }\n",
       "\n",
       "    .dataframe thead th {\n",
       "        text-align: right;\n",
       "    }\n",
       "</style>\n",
       "<table border=\"1\" class=\"dataframe\">\n",
       "  <thead>\n",
       "    <tr style=\"text-align: right;\">\n",
       "      <th></th>\n",
       "      <th>Area Id</th>\n",
       "      <th>Priority</th>\n",
       "    </tr>\n",
       "  </thead>\n",
       "  <tbody>\n",
       "    <tr>\n",
       "      <th>count</th>\n",
       "      <td>179112.000000</td>\n",
       "      <td>180015.000000</td>\n",
       "    </tr>\n",
       "    <tr>\n",
       "      <th>mean</th>\n",
       "      <td>1.740648</td>\n",
       "      <td>1.796111</td>\n",
       "    </tr>\n",
       "    <tr>\n",
       "      <th>std</th>\n",
       "      <td>0.746468</td>\n",
       "      <td>0.402916</td>\n",
       "    </tr>\n",
       "    <tr>\n",
       "      <th>min</th>\n",
       "      <td>1.000000</td>\n",
       "      <td>0.000000</td>\n",
       "    </tr>\n",
       "    <tr>\n",
       "      <th>25%</th>\n",
       "      <td>1.000000</td>\n",
       "      <td>2.000000</td>\n",
       "    </tr>\n",
       "    <tr>\n",
       "      <th>50%</th>\n",
       "      <td>2.000000</td>\n",
       "      <td>2.000000</td>\n",
       "    </tr>\n",
       "    <tr>\n",
       "      <th>75%</th>\n",
       "      <td>2.000000</td>\n",
       "      <td>2.000000</td>\n",
       "    </tr>\n",
       "    <tr>\n",
       "      <th>max</th>\n",
       "      <td>3.000000</td>\n",
       "      <td>2.000000</td>\n",
       "    </tr>\n",
       "    <tr>\n",
       "      <th>miss</th>\n",
       "      <td>904.000000</td>\n",
       "      <td>1.000000</td>\n",
       "    </tr>\n",
       "  </tbody>\n",
       "</table>\n",
       "</div>"
      ],
      "text/plain": [
       "             Area Id       Priority\n",
       "count  179112.000000  180015.000000\n",
       "mean        1.740648       1.796111\n",
       "std         0.746468       0.402916\n",
       "min         1.000000       0.000000\n",
       "25%         1.000000       2.000000\n",
       "50%         2.000000       2.000000\n",
       "75%         2.000000       2.000000\n",
       "max         3.000000       2.000000\n",
       "miss      904.000000       1.000000"
      ]
     },
     "execution_count": 14,
     "metadata": {},
     "output_type": "execute_result"
    }
   ],
   "source": [
    "describe = df.describe()\n",
    "total = len(df)\n",
    "data = {}\n",
    "for field in describe.columns:\n",
    "    data[field] = total - describe[field]['count']\n",
    "\n",
    "describe = describe.append(pd.Series(data, name='miss'))\n",
    "describe"
   ]
  },
  {
   "cell_type": "markdown",
   "metadata": {},
   "source": [
    "\n",
    "### 1.2 数据的可视化\n",
    "\n",
    "\n",
    "- 针对数值属性: 绘制直方图，用qq图检验其分布是否为正态分布。\n"
   ]
  },
  {
   "cell_type": "markdown",
   "metadata": {},
   "source": [
    "\n",
    "Area Id属性不符合正态分布。\n"
   ]
  },
  {
   "cell_type": "code",
   "execution_count": 15,
   "metadata": {},
   "outputs": [
    {
     "name": "stderr",
     "output_type": "stream",
     "text": [
      "C:\\Users\\yjn\\anaconda3\\lib\\site-packages\\scipy\\stats\\_distn_infrastructure.py:903: RuntimeWarning: invalid value encountered in greater\n",
      "  return (a < x) & (x < b)\n",
      "C:\\Users\\yjn\\anaconda3\\lib\\site-packages\\scipy\\stats\\_distn_infrastructure.py:903: RuntimeWarning: invalid value encountered in less\n",
      "  return (a < x) & (x < b)\n",
      "C:\\Users\\yjn\\anaconda3\\lib\\site-packages\\scipy\\stats\\_distn_infrastructure.py:1912: RuntimeWarning: invalid value encountered in less_equal\n",
      "  cond2 = cond0 & (x <= _a)\n"
     ]
    },
    {
     "data": {
      "image/png": "[encoded data removed]",
      "text/plain": [
       "<Figure size 432x288 with 2 Axes>"
      ]
     },
     "metadata": {
      "needs_background": "light"
     },
     "output_type": "display_data"
    }
   ],
   "source": [
    "def hist_and_qqplot(series): \n",
    "    plt.subplot(1, 2, 1)\n",
    "    series.plot.hist(bins=20)\n",
    "    plt.subplot(1, 2, 2)\n",
    "    stats.probplot(series, dist=\"norm\", plot=pylab)\n",
    "    \n",
    "hist_and_qqplot(df['Area Id'])"
   ]
  },
  {
   "cell_type": "markdown",
   "metadata": {},
   "source": [
    "\n",
    "Priority属性不符合正态分布。\n"
   ]
  },
  {
   "cell_type": "code",
   "execution_count": 16,
   "metadata": {},
   "outputs": [
    {
     "name": "stderr",
     "output_type": "stream",
     "text": [
      "C:\\Users\\yjn\\anaconda3\\lib\\site-packages\\scipy\\stats\\_distn_infrastructure.py:903: RuntimeWarning: invalid value encountered in greater\n",
      "  return (a < x) & (x < b)\n",
      "C:\\Users\\yjn\\anaconda3\\lib\\site-packages\\scipy\\stats\\_distn_infrastructure.py:903: RuntimeWarning: invalid value encountered in less\n",
      "  return (a < x) & (x < b)\n",
      "C:\\Users\\yjn\\anaconda3\\lib\\site-packages\\scipy\\stats\\_distn_infrastructure.py:1912: RuntimeWarning: invalid value encountered in less_equal\n",
      "  cond2 = cond0 & (x <= _a)\n"
     ]
    },
    {
     "data": {
      "image/png": "[encoded data removed]",
      "text/plain": [
       "<Figure size 432x288 with 2 Axes>"
      ]
     },
     "metadata": {
      "needs_background": "light"
     },
     "output_type": "display_data"
    }
   ],
   "source": [
    "hist_and_qqplot(df['Priority'])"
   ]
  },
  {
   "cell_type": "markdown",
   "metadata": {},
   "source": [
    "\n",
    "- 针对数值属性: 绘制盒图，对离群值进行识别\n",
    "    "
   ]
  },
  {
   "cell_type": "code",
   "execution_count": 17,
   "metadata": {},
   "outputs": [
    {
     "data": {
      "text/plain": [
       "<matplotlib.axes._subplots.AxesSubplot at 0x213edddb508>"
      ]
     },
     "execution_count": 17,
     "metadata": {},
     "output_type": "execute_result"
    },
    {
     "data": {
      "image/png": "[encoded data removed]",
      "text/plain": [
       "<Figure size 432x288 with 2 Axes>"
      ]
     },
     "metadata": {
      "needs_background": "light"
     },
     "output_type": "display_data"
    }
   ],
   "source": [
    "plt.subplot(1, 2, 1)\n",
    "df.boxplot('Area Id')\n",
    "plt.subplot(1, 2, 2)\n",
    "df.boxplot('Priority')"
   ]
  },
  {
   "cell_type": "markdown",
   "metadata": {},
   "source": [
    "\n",
    "## 2. 数据缺失的处理\n"
   ]
  },
  {
   "cell_type": "markdown",
   "metadata": {},
   "source": [
    "\n",
    "### 2.1 缺失数据原因分析\n",
    "\n",
    "观察数据集中缺失数据，分析其缺失的原因。\n",
    "\n",
    "缺失数据主要集中在Area Id 和 Beat。 Area Id表示区域编码，因为前面有Location作为地址，由于粒度比较低，所以造成缺失。\n",
    "\n",
    "\n",
    "分别使用下列四种策略对缺失值进行处理:\n"
   ]
  },
  {
   "cell_type": "markdown",
   "metadata": {},
   "source": [
    "\n",
    "- 将缺失部分剔除\n"
   ]
  },
  {
   "cell_type": "code",
   "execution_count": 18,
   "metadata": {},
   "outputs": [
    {
     "data": {
      "image/png": "[encoded data removed]",
      "text/plain": [
       "<Figure size 432x288 with 6 Axes>"
      ]
     },
     "metadata": {
      "needs_background": "light"
     },
     "output_type": "display_data"
    }
   ],
   "source": [
    "new_df = df.dropna(subset=['Area Id'])\n",
    "\n",
    "\n",
    "def plot_contract(dataframe, row):\n",
    "    plt.subplot(2, 3, 1+3*row)\n",
    "    new_df['Area Id'].plot.hist(bins=500, xlim=(0, 200))\n",
    "    plt.subplot(2, 3, 2+3*row)\n",
    "    stats.probplot(new_df['Area Id'], dist=\"norm\", plot=pylab)\n",
    "    plt.subplot(2, 3, 3+3*row)\n",
    "    df.boxplot('Area Id')\n",
    "\n",
    "\n",
    "plot_contract(df, 0)\n",
    "plot_contract(new_df, 1)"
   ]
  },
  {
   "cell_type": "markdown",
   "metadata": {},
   "source": [
    "\n",
    "- 用最高频率值来填补缺失值\n"
   ]
  },
  {
   "cell_type": "code",
   "execution_count": 19,
   "metadata": {},
   "outputs": [
    {
     "name": "stdout",
     "output_type": "stream",
     "text": [
      "1.0\n"
     ]
    },
    {
     "data": {
      "image/png": "[encoded data removed]",
      "text/plain": [
       "<Figure size 432x288 with 6 Axes>"
      ]
     },
     "metadata": {
      "needs_background": "light"
     },
     "output_type": "display_data"
    }
   ],
   "source": [
    "mode = df.mode()['Area Id'][0]\n",
    "new_df = df.fillna({'Area Id': mode})\n",
    "print(mode)\n",
    "\n",
    "plot_contract(df, 0)\n",
    "plot_contract(new_df, 1)"
   ]
  },
  {
   "cell_type": "markdown",
   "metadata": {},
   "source": [
    "数值属性Area Id 和 Priority分别表示地区编号和事件优先级，因而取值范围有限，也没有明确的与其他属性的相关关系，因而很难通过数据对象相关性和属性相关性进行缺失值的填充。"
   ]
  }
 ],
 "metadata": {
  "kernelspec": {
   "display_name": "Python 3",
   "language": "python",
   "name": "python3"
  },
  "language_info": {
   "codemirror_mode": {
    "name": "ipython",
    "version": 3
   },
   "file_extension": ".py",
   "mimetype": "text/x-python",
   "name": "python",
   "nbconvert_exporter": "python",
   "pygments_lexer": "ipython3",
   "version": "3.7.6"
  }
 },
 "nbformat": 4,
 "nbformat_minor": 4
}
